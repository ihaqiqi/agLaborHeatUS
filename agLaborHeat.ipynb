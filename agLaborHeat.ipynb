{
 "cells": [
  {
   "cell_type": "markdown",
   "id": "f2a83431",
   "metadata": {},
   "source": [
    "# Calculate Labor Productivity Change Due to Heat Stress\n",
    "By: Iman haqiqi, Department of Agricultural Economics, Purdue University\n",
    "Contact: ihaqiqi@purdue.edu\n",
    "\n",
    "## How to cite \n",
    "To use our code, please consider cite: Saeed, W., I. Haqiqi, Q. Kong, M. Huber, J. R. Buzan, S. Chonabayashi, K. Motohashi, and T. W. Hertel. \"The poverty impacts of labor heat stress in West Africa under a warming climate.\" Earth's Future 10, no. 11 (2022).  https://doi.org/10.1029/2022EF002777\n"
   ]
  },
  {
   "cell_type": "markdown",
   "id": "b9d4ea7a",
   "metadata": {},
   "source": [
    "## 1. Introduction\n",
    "This code takes the WBGT estimates and convert it to labor productivity change.\n",
    "\n",
    "### 1.1. File structure\n",
    "The inputs are WBGT labor capacity estimates with the following details:\n",
    "- warming scenario 1C, 2C, 3C, 4C, 5C\n",
    "- climate models: \n",
    "          \"ACCESS_CM2\",           \n",
    "          \"CMCC-CM2-SR5\",           \n",
    "          \"EC-Earth3_r1i1p1f1\",     \n",
    "          \"EC-Earth3_r3i1p1f1\",    \n",
    "          \"EC-Earth3_r4i1p1f1\",     \n",
    "          \"HadGEM3-GC31-LL\",       \n",
    "          \"HadGEM3-GC31-MM\",\n",
    "          \"BCC-CSM2-MR\",\n",
    "          \"MPI-ESM1-2-HR_r1i1p1f1\",\n",
    "          \"MPI-ESM1-2-HR_r2i1p1f1\", \n",
    "          \"MPI-ESM1-2-LR\",         \n",
    "          \"MRI-ESM2-0\",\n",
    "          \"MIROC6\", \n",
    "          \"KIOST-ESM\"\n",
    "\n",
    "- indoor vs outdoor\n",
    "- daytime vs allday\n",
    "- work intensity: w200, w300, w400, w600\n",
    "\n",
    "The outputs are labor productivity change for farmworkers in the agricultural sector by\n",
    "- climate model and\n",
    "- warming scenario.\n",
    "\n",
    "\n",
    "### 1.1 Required R packages\n",
    "This code requires \"terra\".\n"
   ]
  },
  {
   "cell_type": "code",
   "execution_count": 3,
   "id": "37665069",
   "metadata": {},
   "outputs": [
    {
     "name": "stderr",
     "output_type": "stream",
     "text": [
      "Warning message in install.packages(\"terra\"):\n",
      "“'lib = \"/apps/share64/debian10/anaconda/anaconda-7/envs/R/lib/R/library\"' is not writable”\n"
     ]
    },
    {
     "ename": "ERROR",
     "evalue": "Error in install.packages(\"terra\"): unable to install packages\n",
     "output_type": "error",
     "traceback": [
      "Error in install.packages(\"terra\"): unable to install packages\nTraceback:\n",
      "1. install.packages(\"terra\")",
      "2. stop(\"unable to install packages\")"
     ]
    }
   ],
   "source": [
    "# libraries\n",
    "install.packages(\"terra\")\n",
    "library(terra)\n"
   ]
  },
  {
   "cell_type": "code",
   "execution_count": 4,
   "id": "45a4b8f4",
   "metadata": {},
   "outputs": [
    {
     "data": {
      "text/html": [
       "'/home/mygeohub/ihaqiqi/agLaborUS'"
      ],
      "text/latex": [
       "'/home/mygeohub/ihaqiqi/agLaborUS'"
      ],
      "text/markdown": [
       "'/home/mygeohub/ihaqiqi/agLaborUS'"
      ],
      "text/plain": [
       "[1] \"/home/mygeohub/ihaqiqi/agLaborUS\""
      ]
     },
     "metadata": {},
     "output_type": "display_data"
    }
   ],
   "source": [
    "getwd()"
   ]
  },
  {
   "cell_type": "code",
   "execution_count": null,
   "id": "e8e3d82d",
   "metadata": {},
   "outputs": [],
   "source": []
  }
 ],
 "metadata": {
  "kernelspec": {
   "display_name": "R",
   "language": "R",
   "name": "r"
  },
  "language_info": {
   "codemirror_mode": "r",
   "file_extension": ".r",
   "mimetype": "text/x-r-source",
   "name": "R",
   "pygments_lexer": "r",
   "version": "4.1.2"
  }
 },
 "nbformat": 4,
 "nbformat_minor": 5
}
